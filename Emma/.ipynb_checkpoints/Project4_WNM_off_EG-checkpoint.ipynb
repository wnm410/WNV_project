{
 "cells": [
  {
   "cell_type": "code",
   "execution_count": 4,
   "metadata": {},
   "outputs": [
    {
     "name": "stderr",
     "output_type": "stream",
     "text": [
      "/Users/williammccarthy/anaconda3/lib/python3.6/importlib/_bootstrap.py:219: RuntimeWarning: numpy.dtype size changed, may indicate binary incompatibility. Expected 96, got 88\n",
      "  return f(*args, **kwds)\n",
      "/Users/williammccarthy/anaconda3/lib/python3.6/importlib/_bootstrap.py:219: RuntimeWarning: numpy.dtype size changed, may indicate binary incompatibility. Expected 96, got 88\n",
      "  return f(*args, **kwds)\n",
      "/Users/williammccarthy/anaconda3/lib/python3.6/importlib/_bootstrap.py:219: RuntimeWarning: numpy.dtype size changed, may indicate binary incompatibility. Expected 96, got 88\n",
      "  return f(*args, **kwds)\n"
     ]
    }
   ],
   "source": [
    "import pandas as pd\n",
    "import numpy as np\n",
    "\n",
    "from sklearn.model_selection import train_test_split\n",
    "from sklearn.ensemble import RandomForestClassifier\n",
    "from sklearn.linear_model import LogisticRegression\n",
    "from sklearn.grid_search import GridSearchCV\n",
    "from sklearn.metrics import roc_auc_score\n",
    "from sklearn.neighbors import KNeighborsClassifier\n",
    "\n",
    "pd.set_option('display.max_columns', 50)\n"
   ]
  },
  {
   "cell_type": "markdown",
   "metadata": {},
   "source": [
    "Reading in train and test datasets, resetting the date as index"
   ]
  },
  {
   "cell_type": "code",
   "execution_count": 5,
   "metadata": {},
   "outputs": [
    {
     "data": {
      "text/html": [
       "<div>\n",
       "<style scoped>\n",
       "    .dataframe tbody tr th:only-of-type {\n",
       "        vertical-align: middle;\n",
       "    }\n",
       "\n",
       "    .dataframe tbody tr th {\n",
       "        vertical-align: top;\n",
       "    }\n",
       "\n",
       "    .dataframe thead th {\n",
       "        text-align: right;\n",
       "    }\n",
       "</style>\n",
       "<table border=\"1\" class=\"dataframe\">\n",
       "  <thead>\n",
       "    <tr style=\"text-align: right;\">\n",
       "      <th></th>\n",
       "      <th>Num_Duplicates</th>\n",
       "      <th>WnvPresent</th>\n",
       "      <th>Year</th>\n",
       "      <th>Month</th>\n",
       "      <th>Day</th>\n",
       "      <th>CULEX ERRATICUS</th>\n",
       "      <th>CULEX PIPIENS</th>\n",
       "      <th>CULEX PIPIENS/RESTUANS</th>\n",
       "      <th>CULEX RESTUANS</th>\n",
       "      <th>CULEX SALINARIUS</th>\n",
       "      <th>CULEX TARSALIS</th>\n",
       "      <th>CULEX TERRITANS</th>\n",
       "      <th>Tmax</th>\n",
       "      <th>Tmin</th>\n",
       "      <th>Tavg</th>\n",
       "      <th>Depart</th>\n",
       "      <th>DewPoint</th>\n",
       "      <th>WetBulb</th>\n",
       "      <th>Cool</th>\n",
       "      <th>Sunrise</th>\n",
       "      <th>Sunset</th>\n",
       "      <th>PrecipTotal</th>\n",
       "      <th>ResultSpeed</th>\n",
       "      <th>ResultDir</th>\n",
       "    </tr>\n",
       "    <tr>\n",
       "      <th>Date</th>\n",
       "      <th></th>\n",
       "      <th></th>\n",
       "      <th></th>\n",
       "      <th></th>\n",
       "      <th></th>\n",
       "      <th></th>\n",
       "      <th></th>\n",
       "      <th></th>\n",
       "      <th></th>\n",
       "      <th></th>\n",
       "      <th></th>\n",
       "      <th></th>\n",
       "      <th></th>\n",
       "      <th></th>\n",
       "      <th></th>\n",
       "      <th></th>\n",
       "      <th></th>\n",
       "      <th></th>\n",
       "      <th></th>\n",
       "      <th></th>\n",
       "      <th></th>\n",
       "      <th></th>\n",
       "      <th></th>\n",
       "      <th></th>\n",
       "    </tr>\n",
       "  </thead>\n",
       "  <tbody>\n",
       "    <tr>\n",
       "      <th>2007-05-29</th>\n",
       "      <td>1</td>\n",
       "      <td>0</td>\n",
       "      <td>2007</td>\n",
       "      <td>5</td>\n",
       "      <td>29</td>\n",
       "      <td>0</td>\n",
       "      <td>0</td>\n",
       "      <td>1</td>\n",
       "      <td>0</td>\n",
       "      <td>0</td>\n",
       "      <td>0</td>\n",
       "      <td>0</td>\n",
       "      <td>88</td>\n",
       "      <td>60</td>\n",
       "      <td>74</td>\n",
       "      <td>10</td>\n",
       "      <td>58</td>\n",
       "      <td>65</td>\n",
       "      <td>9</td>\n",
       "      <td>421</td>\n",
       "      <td>1917</td>\n",
       "      <td>0.0</td>\n",
       "      <td>5.8</td>\n",
       "      <td>18</td>\n",
       "    </tr>\n",
       "    <tr>\n",
       "      <th>2007-05-29</th>\n",
       "      <td>1</td>\n",
       "      <td>0</td>\n",
       "      <td>2007</td>\n",
       "      <td>5</td>\n",
       "      <td>29</td>\n",
       "      <td>0</td>\n",
       "      <td>0</td>\n",
       "      <td>0</td>\n",
       "      <td>1</td>\n",
       "      <td>0</td>\n",
       "      <td>0</td>\n",
       "      <td>0</td>\n",
       "      <td>88</td>\n",
       "      <td>60</td>\n",
       "      <td>74</td>\n",
       "      <td>10</td>\n",
       "      <td>58</td>\n",
       "      <td>65</td>\n",
       "      <td>9</td>\n",
       "      <td>421</td>\n",
       "      <td>1917</td>\n",
       "      <td>0.0</td>\n",
       "      <td>5.8</td>\n",
       "      <td>18</td>\n",
       "    </tr>\n",
       "    <tr>\n",
       "      <th>2007-05-29</th>\n",
       "      <td>1</td>\n",
       "      <td>0</td>\n",
       "      <td>2007</td>\n",
       "      <td>5</td>\n",
       "      <td>29</td>\n",
       "      <td>0</td>\n",
       "      <td>0</td>\n",
       "      <td>0</td>\n",
       "      <td>1</td>\n",
       "      <td>0</td>\n",
       "      <td>0</td>\n",
       "      <td>0</td>\n",
       "      <td>88</td>\n",
       "      <td>60</td>\n",
       "      <td>74</td>\n",
       "      <td>10</td>\n",
       "      <td>58</td>\n",
       "      <td>65</td>\n",
       "      <td>9</td>\n",
       "      <td>421</td>\n",
       "      <td>1917</td>\n",
       "      <td>0.0</td>\n",
       "      <td>5.8</td>\n",
       "      <td>18</td>\n",
       "    </tr>\n",
       "    <tr>\n",
       "      <th>2007-05-29</th>\n",
       "      <td>1</td>\n",
       "      <td>0</td>\n",
       "      <td>2007</td>\n",
       "      <td>5</td>\n",
       "      <td>29</td>\n",
       "      <td>0</td>\n",
       "      <td>0</td>\n",
       "      <td>1</td>\n",
       "      <td>0</td>\n",
       "      <td>0</td>\n",
       "      <td>0</td>\n",
       "      <td>0</td>\n",
       "      <td>88</td>\n",
       "      <td>60</td>\n",
       "      <td>74</td>\n",
       "      <td>10</td>\n",
       "      <td>58</td>\n",
       "      <td>65</td>\n",
       "      <td>9</td>\n",
       "      <td>421</td>\n",
       "      <td>1917</td>\n",
       "      <td>0.0</td>\n",
       "      <td>5.8</td>\n",
       "      <td>18</td>\n",
       "    </tr>\n",
       "    <tr>\n",
       "      <th>2007-05-29</th>\n",
       "      <td>1</td>\n",
       "      <td>0</td>\n",
       "      <td>2007</td>\n",
       "      <td>5</td>\n",
       "      <td>29</td>\n",
       "      <td>0</td>\n",
       "      <td>0</td>\n",
       "      <td>0</td>\n",
       "      <td>1</td>\n",
       "      <td>0</td>\n",
       "      <td>0</td>\n",
       "      <td>0</td>\n",
       "      <td>88</td>\n",
       "      <td>60</td>\n",
       "      <td>74</td>\n",
       "      <td>10</td>\n",
       "      <td>58</td>\n",
       "      <td>65</td>\n",
       "      <td>9</td>\n",
       "      <td>421</td>\n",
       "      <td>1917</td>\n",
       "      <td>0.0</td>\n",
       "      <td>5.8</td>\n",
       "      <td>18</td>\n",
       "    </tr>\n",
       "  </tbody>\n",
       "</table>\n",
       "</div>"
      ],
      "text/plain": [
       "            Num_Duplicates  WnvPresent  Year  Month  Day  CULEX ERRATICUS  \\\n",
       "Date                                                                        \n",
       "2007-05-29               1           0  2007      5   29                0   \n",
       "2007-05-29               1           0  2007      5   29                0   \n",
       "2007-05-29               1           0  2007      5   29                0   \n",
       "2007-05-29               1           0  2007      5   29                0   \n",
       "2007-05-29               1           0  2007      5   29                0   \n",
       "\n",
       "            CULEX PIPIENS  CULEX PIPIENS/RESTUANS  CULEX RESTUANS  \\\n",
       "Date                                                                \n",
       "2007-05-29              0                       1               0   \n",
       "2007-05-29              0                       0               1   \n",
       "2007-05-29              0                       0               1   \n",
       "2007-05-29              0                       1               0   \n",
       "2007-05-29              0                       0               1   \n",
       "\n",
       "            CULEX SALINARIUS  CULEX TARSALIS  CULEX TERRITANS  Tmax  Tmin  \\\n",
       "Date                                                                        \n",
       "2007-05-29                 0               0                0    88    60   \n",
       "2007-05-29                 0               0                0    88    60   \n",
       "2007-05-29                 0               0                0    88    60   \n",
       "2007-05-29                 0               0                0    88    60   \n",
       "2007-05-29                 0               0                0    88    60   \n",
       "\n",
       "            Tavg  Depart  DewPoint  WetBulb  Cool  Sunrise  Sunset  \\\n",
       "Date                                                                 \n",
       "2007-05-29    74      10        58       65     9      421    1917   \n",
       "2007-05-29    74      10        58       65     9      421    1917   \n",
       "2007-05-29    74      10        58       65     9      421    1917   \n",
       "2007-05-29    74      10        58       65     9      421    1917   \n",
       "2007-05-29    74      10        58       65     9      421    1917   \n",
       "\n",
       "            PrecipTotal  ResultSpeed  ResultDir  \n",
       "Date                                             \n",
       "2007-05-29          0.0          5.8         18  \n",
       "2007-05-29          0.0          5.8         18  \n",
       "2007-05-29          0.0          5.8         18  \n",
       "2007-05-29          0.0          5.8         18  \n",
       "2007-05-29          0.0          5.8         18  "
      ]
     },
     "execution_count": 5,
     "metadata": {},
     "output_type": "execute_result"
    }
   ],
   "source": [
    "df = pd.read_csv('train_weather_per_station.csv')\n",
    "df['Date'] = pd.to_datetime(df['Date'])\n",
    "df.set_index('Date', inplace = True)\n",
    "df.head()"
   ]
  },
  {
   "cell_type": "code",
   "execution_count": 6,
   "metadata": {},
   "outputs": [
    {
     "data": {
      "text/html": [
       "<div>\n",
       "<style scoped>\n",
       "    .dataframe tbody tr th:only-of-type {\n",
       "        vertical-align: middle;\n",
       "    }\n",
       "\n",
       "    .dataframe tbody tr th {\n",
       "        vertical-align: top;\n",
       "    }\n",
       "\n",
       "    .dataframe thead th {\n",
       "        text-align: right;\n",
       "    }\n",
       "</style>\n",
       "<table border=\"1\" class=\"dataframe\">\n",
       "  <thead>\n",
       "    <tr style=\"text-align: right;\">\n",
       "      <th></th>\n",
       "      <th>Num_Duplicates</th>\n",
       "      <th>Year</th>\n",
       "      <th>Month</th>\n",
       "      <th>Day</th>\n",
       "      <th>CULEX ERRATICUS</th>\n",
       "      <th>CULEX PIPIENS</th>\n",
       "      <th>CULEX PIPIENS/RESTUANS</th>\n",
       "      <th>CULEX RESTUANS</th>\n",
       "      <th>CULEX SALINARIUS</th>\n",
       "      <th>CULEX TARSALIS</th>\n",
       "      <th>CULEX TERRITANS</th>\n",
       "      <th>UNSPECIFIED CULEX</th>\n",
       "      <th>Tmax</th>\n",
       "      <th>Tmin</th>\n",
       "      <th>Tavg</th>\n",
       "      <th>Depart</th>\n",
       "      <th>DewPoint</th>\n",
       "      <th>WetBulb</th>\n",
       "      <th>Cool</th>\n",
       "      <th>Sunrise</th>\n",
       "      <th>Sunset</th>\n",
       "      <th>PrecipTotal</th>\n",
       "      <th>ResultSpeed</th>\n",
       "      <th>ResultDir</th>\n",
       "    </tr>\n",
       "    <tr>\n",
       "      <th>Date</th>\n",
       "      <th></th>\n",
       "      <th></th>\n",
       "      <th></th>\n",
       "      <th></th>\n",
       "      <th></th>\n",
       "      <th></th>\n",
       "      <th></th>\n",
       "      <th></th>\n",
       "      <th></th>\n",
       "      <th></th>\n",
       "      <th></th>\n",
       "      <th></th>\n",
       "      <th></th>\n",
       "      <th></th>\n",
       "      <th></th>\n",
       "      <th></th>\n",
       "      <th></th>\n",
       "      <th></th>\n",
       "      <th></th>\n",
       "      <th></th>\n",
       "      <th></th>\n",
       "      <th></th>\n",
       "      <th></th>\n",
       "      <th></th>\n",
       "    </tr>\n",
       "  </thead>\n",
       "  <tbody>\n",
       "    <tr>\n",
       "      <th>2008-06-11</th>\n",
       "      <td>1</td>\n",
       "      <td>2008</td>\n",
       "      <td>6</td>\n",
       "      <td>11</td>\n",
       "      <td>0</td>\n",
       "      <td>0</td>\n",
       "      <td>1</td>\n",
       "      <td>0</td>\n",
       "      <td>0</td>\n",
       "      <td>0</td>\n",
       "      <td>0</td>\n",
       "      <td>0</td>\n",
       "      <td>86</td>\n",
       "      <td>61</td>\n",
       "      <td>74</td>\n",
       "      <td>7</td>\n",
       "      <td>56</td>\n",
       "      <td>64</td>\n",
       "      <td>9</td>\n",
       "      <td>416</td>\n",
       "      <td>1926</td>\n",
       "      <td>0.0</td>\n",
       "      <td>8.9</td>\n",
       "      <td>18</td>\n",
       "    </tr>\n",
       "    <tr>\n",
       "      <th>2008-06-11</th>\n",
       "      <td>1</td>\n",
       "      <td>2008</td>\n",
       "      <td>6</td>\n",
       "      <td>11</td>\n",
       "      <td>0</td>\n",
       "      <td>0</td>\n",
       "      <td>0</td>\n",
       "      <td>1</td>\n",
       "      <td>0</td>\n",
       "      <td>0</td>\n",
       "      <td>0</td>\n",
       "      <td>0</td>\n",
       "      <td>86</td>\n",
       "      <td>61</td>\n",
       "      <td>74</td>\n",
       "      <td>7</td>\n",
       "      <td>56</td>\n",
       "      <td>64</td>\n",
       "      <td>9</td>\n",
       "      <td>416</td>\n",
       "      <td>1926</td>\n",
       "      <td>0.0</td>\n",
       "      <td>8.9</td>\n",
       "      <td>18</td>\n",
       "    </tr>\n",
       "    <tr>\n",
       "      <th>2008-06-11</th>\n",
       "      <td>1</td>\n",
       "      <td>2008</td>\n",
       "      <td>6</td>\n",
       "      <td>11</td>\n",
       "      <td>0</td>\n",
       "      <td>1</td>\n",
       "      <td>0</td>\n",
       "      <td>0</td>\n",
       "      <td>0</td>\n",
       "      <td>0</td>\n",
       "      <td>0</td>\n",
       "      <td>0</td>\n",
       "      <td>86</td>\n",
       "      <td>61</td>\n",
       "      <td>74</td>\n",
       "      <td>7</td>\n",
       "      <td>56</td>\n",
       "      <td>64</td>\n",
       "      <td>9</td>\n",
       "      <td>416</td>\n",
       "      <td>1926</td>\n",
       "      <td>0.0</td>\n",
       "      <td>8.9</td>\n",
       "      <td>18</td>\n",
       "    </tr>\n",
       "    <tr>\n",
       "      <th>2008-06-11</th>\n",
       "      <td>1</td>\n",
       "      <td>2008</td>\n",
       "      <td>6</td>\n",
       "      <td>11</td>\n",
       "      <td>0</td>\n",
       "      <td>0</td>\n",
       "      <td>0</td>\n",
       "      <td>0</td>\n",
       "      <td>1</td>\n",
       "      <td>0</td>\n",
       "      <td>0</td>\n",
       "      <td>0</td>\n",
       "      <td>86</td>\n",
       "      <td>61</td>\n",
       "      <td>74</td>\n",
       "      <td>7</td>\n",
       "      <td>56</td>\n",
       "      <td>64</td>\n",
       "      <td>9</td>\n",
       "      <td>416</td>\n",
       "      <td>1926</td>\n",
       "      <td>0.0</td>\n",
       "      <td>8.9</td>\n",
       "      <td>18</td>\n",
       "    </tr>\n",
       "    <tr>\n",
       "      <th>2008-06-11</th>\n",
       "      <td>1</td>\n",
       "      <td>2008</td>\n",
       "      <td>6</td>\n",
       "      <td>11</td>\n",
       "      <td>0</td>\n",
       "      <td>0</td>\n",
       "      <td>0</td>\n",
       "      <td>0</td>\n",
       "      <td>0</td>\n",
       "      <td>0</td>\n",
       "      <td>1</td>\n",
       "      <td>0</td>\n",
       "      <td>86</td>\n",
       "      <td>61</td>\n",
       "      <td>74</td>\n",
       "      <td>7</td>\n",
       "      <td>56</td>\n",
       "      <td>64</td>\n",
       "      <td>9</td>\n",
       "      <td>416</td>\n",
       "      <td>1926</td>\n",
       "      <td>0.0</td>\n",
       "      <td>8.9</td>\n",
       "      <td>18</td>\n",
       "    </tr>\n",
       "  </tbody>\n",
       "</table>\n",
       "</div>"
      ],
      "text/plain": [
       "            Num_Duplicates  Year  Month  Day  CULEX ERRATICUS  CULEX PIPIENS  \\\n",
       "Date                                                                           \n",
       "2008-06-11               1  2008      6   11                0              0   \n",
       "2008-06-11               1  2008      6   11                0              0   \n",
       "2008-06-11               1  2008      6   11                0              1   \n",
       "2008-06-11               1  2008      6   11                0              0   \n",
       "2008-06-11               1  2008      6   11                0              0   \n",
       "\n",
       "            CULEX PIPIENS/RESTUANS  CULEX RESTUANS  CULEX SALINARIUS  \\\n",
       "Date                                                                   \n",
       "2008-06-11                       1               0                 0   \n",
       "2008-06-11                       0               1                 0   \n",
       "2008-06-11                       0               0                 0   \n",
       "2008-06-11                       0               0                 1   \n",
       "2008-06-11                       0               0                 0   \n",
       "\n",
       "            CULEX TARSALIS  CULEX TERRITANS  UNSPECIFIED CULEX  Tmax  Tmin  \\\n",
       "Date                                                                         \n",
       "2008-06-11               0                0                  0    86    61   \n",
       "2008-06-11               0                0                  0    86    61   \n",
       "2008-06-11               0                0                  0    86    61   \n",
       "2008-06-11               0                0                  0    86    61   \n",
       "2008-06-11               0                1                  0    86    61   \n",
       "\n",
       "            Tavg  Depart  DewPoint  WetBulb  Cool  Sunrise  Sunset  \\\n",
       "Date                                                                 \n",
       "2008-06-11    74       7        56       64     9      416    1926   \n",
       "2008-06-11    74       7        56       64     9      416    1926   \n",
       "2008-06-11    74       7        56       64     9      416    1926   \n",
       "2008-06-11    74       7        56       64     9      416    1926   \n",
       "2008-06-11    74       7        56       64     9      416    1926   \n",
       "\n",
       "            PrecipTotal  ResultSpeed  ResultDir  \n",
       "Date                                             \n",
       "2008-06-11          0.0          8.9         18  \n",
       "2008-06-11          0.0          8.9         18  \n",
       "2008-06-11          0.0          8.9         18  \n",
       "2008-06-11          0.0          8.9         18  \n",
       "2008-06-11          0.0          8.9         18  "
      ]
     },
     "execution_count": 6,
     "metadata": {},
     "output_type": "execute_result"
    }
   ],
   "source": [
    "test = pd.read_csv('test_weather_per_station.csv')\n",
    "test['Date'] = pd.to_datetime(test['Date'])\n",
    "test.set_index('Date', inplace = True)\n",
    "test.head()"
   ]
  },
  {
   "cell_type": "code",
   "execution_count": 5,
   "metadata": {},
   "outputs": [
    {
     "name": "stdout",
     "output_type": "stream",
     "text": [
      "Number of columns in the train set: 24\n",
      "Number of columns in the test set: 24\n"
     ]
    }
   ],
   "source": [
    "print(f'Number of columns in the train set: {df.shape[1]}')\n",
    "print(f'Number of columns in the test set: {test.shape[1]}')"
   ]
  },
  {
   "cell_type": "markdown",
   "metadata": {},
   "source": [
    "Since there is a column of Unspecified Species in the test data that is not in the train data, I substitute that species in the test data with the most popular species."
   ]
  },
  {
   "cell_type": "code",
   "execution_count": 6,
   "metadata": {},
   "outputs": [
    {
     "data": {
      "text/plain": [
       "CULEX ERRATICUS           14345\n",
       "CULEX PIPIENS             14521\n",
       "CULEX PIPIENS/RESTUANS    15359\n",
       "CULEX RESTUANS            14670\n",
       "CULEX SALINARIUS          14355\n",
       "CULEX TARSALIS            14347\n",
       "CULEX TERRITANS           14351\n",
       "dtype: int64"
      ]
     },
     "execution_count": 6,
     "metadata": {},
     "output_type": "execute_result"
    }
   ],
   "source": [
    "# checking which is the most popular species \n",
    "\n",
    "test[['CULEX ERRATICUS','CULEX PIPIENS','CULEX PIPIENS/RESTUANS','CULEX RESTUANS','CULEX SALINARIUS',\n",
    "     'CULEX TARSALIS','CULEX TERRITANS']].sum()"
   ]
  },
  {
   "cell_type": "code",
   "execution_count": 7,
   "metadata": {},
   "outputs": [
    {
     "data": {
      "text/plain": [
       "116293"
      ]
     },
     "execution_count": 7,
     "metadata": {},
     "output_type": "execute_result"
    }
   ],
   "source": [
    "# assigning culex pipiens/restuans to the unspecified culex\n",
    "for index, row in test.iterrows():\n",
    "    if row['UNSPECIFIED CULEX'] == 1:\n",
    "        test.loc[index,'CULEX PIPIENS/RESTUANS'] = 1\n",
    "\n",
    "# check if the number of culex pipiens/restuans has actually increased\n",
    "test['CULEX PIPIENS/RESTUANS'].sum()"
   ]
  },
  {
   "cell_type": "code",
   "execution_count": 8,
   "metadata": {
    "scrolled": true
   },
   "outputs": [
    {
     "data": {
      "text/html": [
       "<div>\n",
       "<style scoped>\n",
       "    .dataframe tbody tr th:only-of-type {\n",
       "        vertical-align: middle;\n",
       "    }\n",
       "\n",
       "    .dataframe tbody tr th {\n",
       "        vertical-align: top;\n",
       "    }\n",
       "\n",
       "    .dataframe thead th {\n",
       "        text-align: right;\n",
       "    }\n",
       "</style>\n",
       "<table border=\"1\" class=\"dataframe\">\n",
       "  <thead>\n",
       "    <tr style=\"text-align: right;\">\n",
       "      <th></th>\n",
       "      <th>Num_Duplicates</th>\n",
       "      <th>Year</th>\n",
       "      <th>Month</th>\n",
       "      <th>Day</th>\n",
       "      <th>CULEX ERRATICUS</th>\n",
       "      <th>CULEX PIPIENS</th>\n",
       "      <th>CULEX PIPIENS/RESTUANS</th>\n",
       "      <th>CULEX RESTUANS</th>\n",
       "      <th>CULEX SALINARIUS</th>\n",
       "      <th>CULEX TARSALIS</th>\n",
       "      <th>CULEX TERRITANS</th>\n",
       "      <th>Tmax</th>\n",
       "      <th>Tmin</th>\n",
       "      <th>Tavg</th>\n",
       "      <th>Depart</th>\n",
       "      <th>DewPoint</th>\n",
       "      <th>WetBulb</th>\n",
       "      <th>Cool</th>\n",
       "      <th>Sunrise</th>\n",
       "      <th>Sunset</th>\n",
       "      <th>PrecipTotal</th>\n",
       "      <th>ResultSpeed</th>\n",
       "      <th>ResultDir</th>\n",
       "    </tr>\n",
       "    <tr>\n",
       "      <th>Date</th>\n",
       "      <th></th>\n",
       "      <th></th>\n",
       "      <th></th>\n",
       "      <th></th>\n",
       "      <th></th>\n",
       "      <th></th>\n",
       "      <th></th>\n",
       "      <th></th>\n",
       "      <th></th>\n",
       "      <th></th>\n",
       "      <th></th>\n",
       "      <th></th>\n",
       "      <th></th>\n",
       "      <th></th>\n",
       "      <th></th>\n",
       "      <th></th>\n",
       "      <th></th>\n",
       "      <th></th>\n",
       "      <th></th>\n",
       "      <th></th>\n",
       "      <th></th>\n",
       "      <th></th>\n",
       "      <th></th>\n",
       "    </tr>\n",
       "  </thead>\n",
       "  <tbody>\n",
       "    <tr>\n",
       "      <th>2008-06-11</th>\n",
       "      <td>1</td>\n",
       "      <td>2008</td>\n",
       "      <td>6</td>\n",
       "      <td>11</td>\n",
       "      <td>0</td>\n",
       "      <td>0</td>\n",
       "      <td>1</td>\n",
       "      <td>0</td>\n",
       "      <td>0</td>\n",
       "      <td>0</td>\n",
       "      <td>0</td>\n",
       "      <td>86</td>\n",
       "      <td>61</td>\n",
       "      <td>74</td>\n",
       "      <td>7</td>\n",
       "      <td>56</td>\n",
       "      <td>64</td>\n",
       "      <td>9</td>\n",
       "      <td>416</td>\n",
       "      <td>1926</td>\n",
       "      <td>0.0</td>\n",
       "      <td>8.9</td>\n",
       "      <td>18</td>\n",
       "    </tr>\n",
       "    <tr>\n",
       "      <th>2008-06-11</th>\n",
       "      <td>1</td>\n",
       "      <td>2008</td>\n",
       "      <td>6</td>\n",
       "      <td>11</td>\n",
       "      <td>0</td>\n",
       "      <td>0</td>\n",
       "      <td>1</td>\n",
       "      <td>1</td>\n",
       "      <td>0</td>\n",
       "      <td>0</td>\n",
       "      <td>0</td>\n",
       "      <td>86</td>\n",
       "      <td>61</td>\n",
       "      <td>74</td>\n",
       "      <td>7</td>\n",
       "      <td>56</td>\n",
       "      <td>64</td>\n",
       "      <td>9</td>\n",
       "      <td>416</td>\n",
       "      <td>1926</td>\n",
       "      <td>0.0</td>\n",
       "      <td>8.9</td>\n",
       "      <td>18</td>\n",
       "    </tr>\n",
       "    <tr>\n",
       "      <th>2008-06-11</th>\n",
       "      <td>1</td>\n",
       "      <td>2008</td>\n",
       "      <td>6</td>\n",
       "      <td>11</td>\n",
       "      <td>0</td>\n",
       "      <td>1</td>\n",
       "      <td>1</td>\n",
       "      <td>0</td>\n",
       "      <td>0</td>\n",
       "      <td>0</td>\n",
       "      <td>0</td>\n",
       "      <td>86</td>\n",
       "      <td>61</td>\n",
       "      <td>74</td>\n",
       "      <td>7</td>\n",
       "      <td>56</td>\n",
       "      <td>64</td>\n",
       "      <td>9</td>\n",
       "      <td>416</td>\n",
       "      <td>1926</td>\n",
       "      <td>0.0</td>\n",
       "      <td>8.9</td>\n",
       "      <td>18</td>\n",
       "    </tr>\n",
       "    <tr>\n",
       "      <th>2008-06-11</th>\n",
       "      <td>1</td>\n",
       "      <td>2008</td>\n",
       "      <td>6</td>\n",
       "      <td>11</td>\n",
       "      <td>0</td>\n",
       "      <td>0</td>\n",
       "      <td>1</td>\n",
       "      <td>0</td>\n",
       "      <td>1</td>\n",
       "      <td>0</td>\n",
       "      <td>0</td>\n",
       "      <td>86</td>\n",
       "      <td>61</td>\n",
       "      <td>74</td>\n",
       "      <td>7</td>\n",
       "      <td>56</td>\n",
       "      <td>64</td>\n",
       "      <td>9</td>\n",
       "      <td>416</td>\n",
       "      <td>1926</td>\n",
       "      <td>0.0</td>\n",
       "      <td>8.9</td>\n",
       "      <td>18</td>\n",
       "    </tr>\n",
       "    <tr>\n",
       "      <th>2008-06-11</th>\n",
       "      <td>1</td>\n",
       "      <td>2008</td>\n",
       "      <td>6</td>\n",
       "      <td>11</td>\n",
       "      <td>0</td>\n",
       "      <td>0</td>\n",
       "      <td>1</td>\n",
       "      <td>0</td>\n",
       "      <td>0</td>\n",
       "      <td>0</td>\n",
       "      <td>1</td>\n",
       "      <td>86</td>\n",
       "      <td>61</td>\n",
       "      <td>74</td>\n",
       "      <td>7</td>\n",
       "      <td>56</td>\n",
       "      <td>64</td>\n",
       "      <td>9</td>\n",
       "      <td>416</td>\n",
       "      <td>1926</td>\n",
       "      <td>0.0</td>\n",
       "      <td>8.9</td>\n",
       "      <td>18</td>\n",
       "    </tr>\n",
       "  </tbody>\n",
       "</table>\n",
       "</div>"
      ],
      "text/plain": [
       "            Num_Duplicates  Year  Month  Day  CULEX ERRATICUS  CULEX PIPIENS  \\\n",
       "Date                                                                           \n",
       "2008-06-11               1  2008      6   11                0              0   \n",
       "2008-06-11               1  2008      6   11                0              0   \n",
       "2008-06-11               1  2008      6   11                0              1   \n",
       "2008-06-11               1  2008      6   11                0              0   \n",
       "2008-06-11               1  2008      6   11                0              0   \n",
       "\n",
       "            CULEX PIPIENS/RESTUANS  CULEX RESTUANS  CULEX SALINARIUS  \\\n",
       "Date                                                                   \n",
       "2008-06-11                       1               0                 0   \n",
       "2008-06-11                       1               1                 0   \n",
       "2008-06-11                       1               0                 0   \n",
       "2008-06-11                       1               0                 1   \n",
       "2008-06-11                       1               0                 0   \n",
       "\n",
       "            CULEX TARSALIS  CULEX TERRITANS  Tmax  Tmin  Tavg  Depart  \\\n",
       "Date                                                                    \n",
       "2008-06-11               0                0    86    61    74       7   \n",
       "2008-06-11               0                0    86    61    74       7   \n",
       "2008-06-11               0                0    86    61    74       7   \n",
       "2008-06-11               0                0    86    61    74       7   \n",
       "2008-06-11               0                1    86    61    74       7   \n",
       "\n",
       "            DewPoint  WetBulb  Cool  Sunrise  Sunset  PrecipTotal  \\\n",
       "Date                                                                \n",
       "2008-06-11        56       64     9      416    1926          0.0   \n",
       "2008-06-11        56       64     9      416    1926          0.0   \n",
       "2008-06-11        56       64     9      416    1926          0.0   \n",
       "2008-06-11        56       64     9      416    1926          0.0   \n",
       "2008-06-11        56       64     9      416    1926          0.0   \n",
       "\n",
       "            ResultSpeed  ResultDir  \n",
       "Date                                \n",
       "2008-06-11          8.9         18  \n",
       "2008-06-11          8.9         18  \n",
       "2008-06-11          8.9         18  \n",
       "2008-06-11          8.9         18  \n",
       "2008-06-11          8.9         18  "
      ]
     },
     "execution_count": 8,
     "metadata": {},
     "output_type": "execute_result"
    }
   ],
   "source": [
    "# droppig the unspecified culex\n",
    "test.drop('UNSPECIFIED CULEX', axis = 1, inplace = True)\n",
    "test.head()"
   ]
  },
  {
   "cell_type": "code",
   "execution_count": 9,
   "metadata": {},
   "outputs": [],
   "source": [
    "df['PrecipitationTotal_rollingmean2'] = df['PrecipTotal'].rolling(4).mean().fillna(0)"
   ]
  },
  {
   "cell_type": "markdown",
   "metadata": {},
   "source": [
    "# Defining X and y, and train/test split"
   ]
  },
  {
   "cell_type": "code",
   "execution_count": 10,
   "metadata": {},
   "outputs": [],
   "source": [
    "features = [feat for feat in df.columns if feat != \"WnvPresent\"]\n",
    "\n",
    "X = df[features]\n",
    "y = df['WnvPresent']\n",
    "\n",
    "X_train, X_test, y_train, y_test = train_test_split(X, y, test_size = 0.2, random_state = 17)"
   ]
  },
  {
   "cell_type": "markdown",
   "metadata": {},
   "source": [
    "# KNN model"
   ]
  },
  {
   "cell_type": "code",
   "execution_count": 11,
   "metadata": {},
   "outputs": [
    {
     "data": {
      "text/plain": [
       "GridSearchCV(cv=10, error_score='raise',\n",
       "       estimator=KNeighborsClassifier(algorithm='auto', leaf_size=30, metric='minkowski',\n",
       "           metric_params=None, n_jobs=1, n_neighbors=5, p=2,\n",
       "           weights='uniform'),\n",
       "       fit_params={}, iid=True, n_jobs=1,\n",
       "       param_grid={'n_neighbors': array([ 3,  5,  7,  9, 11, 13, 15, 17, 19, 21, 23, 25, 27, 29]), 'p': [1, 2]},\n",
       "       pre_dispatch='2*n_jobs', refit=True, scoring=None, verbose=0)"
      ]
     },
     "execution_count": 11,
     "metadata": {},
     "output_type": "execute_result"
    }
   ],
   "source": [
    "k = np.arange(3,30,2)\n",
    "parameters = {'n_neighbors': k,\n",
    "              'p': [1,2] }\n",
    "knn = KNeighborsClassifier()\n",
    "clf = GridSearchCV(knn,parameters,cv=10)\n",
    "clf.fit(X_train, y_train)"
   ]
  },
  {
   "cell_type": "code",
   "execution_count": 57,
   "metadata": {},
   "outputs": [
    {
     "data": {
      "text/plain": [
       "{'n_neighbors': 5, 'p': 1}"
      ]
     },
     "execution_count": 57,
     "metadata": {},
     "output_type": "execute_result"
    }
   ],
   "source": [
    "clf.best_params_"
   ]
  },
  {
   "cell_type": "code",
   "execution_count": 58,
   "metadata": {},
   "outputs": [
    {
     "data": {
      "text/plain": [
       "0.7976312485152882"
      ]
     },
     "execution_count": 58,
     "metadata": {},
     "output_type": "execute_result"
    }
   ],
   "source": [
    "y_pred = clf.predict(X_test)\n",
    "auc_knn = roc_auc_score(y_test, y_pred)\n",
    "auc_knn"
   ]
  },
  {
   "cell_type": "markdown",
   "metadata": {},
   "source": [
    "# Logistic Regression model"
   ]
  },
  {
   "cell_type": "code",
   "execution_count": 59,
   "metadata": {},
   "outputs": [
    {
     "data": {
      "text/plain": [
       "0.6663284351986969"
      ]
     },
     "execution_count": 59,
     "metadata": {},
     "output_type": "execute_result"
    }
   ],
   "source": [
    "logreg = LogisticRegression()\n",
    "logreg.fit(X_train, y_train)\n",
    "y_pred = logreg.predict(X_test)\n",
    "auc_logreg = roc_auc_score(y_test, y_pred)\n",
    "auc_logreg"
   ]
  },
  {
   "cell_type": "markdown",
   "metadata": {},
   "source": [
    "# Random Forest w/ Grid Search"
   ]
  },
  {
   "cell_type": "code",
   "execution_count": 19,
   "metadata": {},
   "outputs": [
    {
     "data": {
      "text/plain": [
       "{'max_depth': 50, 'n_estimators': 20}"
      ]
     },
     "execution_count": 19,
     "metadata": {},
     "output_type": "execute_result"
    }
   ],
   "source": [
    "params = {'n_estimators': [10,15,20],\n",
    "          'max_depth': [40,50,60]}\n",
    "rfc = RandomForestClassifier() \n",
    "rfcl = GridSearchCV(rfc,params,cv=10)\n",
    "rfcl.fit(X_train, y_train)\n",
    "rfcl.best_params_"
   ]
  },
  {
   "cell_type": "code",
   "execution_count": 20,
   "metadata": {},
   "outputs": [
    {
     "data": {
      "text/plain": [
       "0.8203719414938744"
      ]
     },
     "execution_count": 20,
     "metadata": {},
     "output_type": "execute_result"
    }
   ],
   "source": [
    "y_pred = rfcl.predict(X_test)\n",
    "auc_rfcl = roc_auc_score(y_test, y_pred)\n",
    "auc_rfcl"
   ]
  },
  {
   "cell_type": "markdown",
   "metadata": {},
   "source": [
    "# --"
   ]
  },
  {
   "cell_type": "code",
   "execution_count": 60,
   "metadata": {},
   "outputs": [
    {
     "data": {
      "text/plain": [
       "{'max_depth': 50, 'n_estimators': 20}"
      ]
     },
     "execution_count": 60,
     "metadata": {},
     "output_type": "execute_result"
    }
   ],
   "source": [
    "params = {'n_estimators': [10,15,20],\n",
    "          'max_depth': [40,50,60]}\n",
    "rfc = RandomForestClassifier() \n",
    "rfcl = GridSearchCV(rfc,params,cv=10)\n",
    "rfcl.fit(X_train, y_train)\n",
    "rfcl.best_params_"
   ]
  },
  {
   "cell_type": "code",
   "execution_count": 61,
   "metadata": {},
   "outputs": [
    {
     "data": {
      "text/plain": [
       "0.8116650264137284"
      ]
     },
     "execution_count": 61,
     "metadata": {},
     "output_type": "execute_result"
    }
   ],
   "source": [
    "y_pred = rfcl.predict(X_test)\n",
    "auc_rfcl = roc_auc_score(y_test, y_pred)\n",
    "auc_rfcl"
   ]
  },
  {
   "cell_type": "code",
   "execution_count": 12,
   "metadata": {},
   "outputs": [],
   "source": [
    "from sklearn.ensemble import AdaBoostClassifier, BaggingClassifier, ExtraTreesClassifier"
   ]
  },
  {
   "cell_type": "code",
   "execution_count": 12,
   "metadata": {},
   "outputs": [
    {
     "data": {
      "text/plain": [
       "0.748839945249488"
      ]
     },
     "execution_count": 12,
     "metadata": {},
     "output_type": "execute_result"
    }
   ],
   "source": [
    "ada = AdaBoostClassifier()\n",
    "ada.fit(X_train, y_train)\n",
    "y_pred = ada.predict(X_test)\n",
    "auc_ada = roc_auc_score(y_test, y_pred)\n",
    "auc_ada"
   ]
  },
  {
   "cell_type": "code",
   "execution_count": 13,
   "metadata": {},
   "outputs": [
    {
     "data": {
      "text/plain": [
       "0.8111288333842378"
      ]
     },
     "execution_count": 13,
     "metadata": {},
     "output_type": "execute_result"
    }
   ],
   "source": [
    "bag = BaggingClassifier()\n",
    "bag.fit(X_train, y_train)\n",
    "y_pred = bag.predict(X_test)\n",
    "auc_bag = roc_auc_score(y_test, y_pred)\n",
    "auc_bag"
   ]
  },
  {
   "cell_type": "code",
   "execution_count": 14,
   "metadata": {},
   "outputs": [
    {
     "data": {
      "text/plain": [
       "0.8158844356964288"
      ]
     },
     "execution_count": 14,
     "metadata": {},
     "output_type": "execute_result"
    }
   ],
   "source": [
    "ext = ExtraTreesClassifier()\n",
    "ext.fit(X_train, y_train)\n",
    "y_pred = ext.predict(X_test)\n",
    "auc_ext = roc_auc_score(y_test, y_pred)\n",
    "auc_ext"
   ]
  },
  {
   "cell_type": "code",
   "execution_count": 13,
   "metadata": {},
   "outputs": [],
   "source": [
    "from sklearn.naive_bayes import GaussianNB\n",
    "from sklearn.linear_model import LogisticRegressionCV\n",
    "from sklearn.svm import SVC\n",
    "from sklearn.preprocessing import StandardScaler"
   ]
  },
  {
   "cell_type": "code",
   "execution_count": 14,
   "metadata": {
    "scrolled": true
   },
   "outputs": [],
   "source": [
    "wnv_pres = df[df.WnvPresent==1]\n",
    "train_bootstrapped = wnv_pres.sample(n=8000, replace=True)\n",
    "train = pd.merge(df, train_bootstrapped, how=\"outer\")"
   ]
  },
  {
   "cell_type": "code",
   "execution_count": 15,
   "metadata": {},
   "outputs": [],
   "source": [
    "X = train[features]\n",
    "y = train['WnvPresent']\n",
    "X_train, X_test, y_train, y_test = train_test_split(X, y, random_state = 1)"
   ]
  },
  {
   "cell_type": "code",
   "execution_count": 16,
   "metadata": {},
   "outputs": [],
   "source": [
    "ss = StandardScaler()\n",
    "X_train_scaled = ss.fit_transform(X_train)\n",
    "X_test_scaled = ss.transform(X_test)"
   ]
  },
  {
   "cell_type": "code",
   "execution_count": 18,
   "metadata": {},
   "outputs": [],
   "source": [
    "models  = {'rf': [RandomForestClassifier(random_state = 1), {'n_estimators' : [7, 10, 20],\n",
    "                                                'max_depth' : [20,30,40]}],\n",
    "         'et': [ExtraTreesClassifier(random_state = 1), {'n_estimators' : [20, 30, 40],\n",
    "                                                'max_depth' : [15, 20, 30]}],\n",
    "         'bag': [BaggingClassifier(random_state = 1), {'n_estimators' : [5, 10, 15]}],\n",
    "              'ada': [AdaBoostClassifier(random_state = 1), {'n_estimators' : [60,70,80]}],\n",
    "              'knn': [KNeighborsClassifier(), {'n_neighbors': [3,5,7]}],\n",
    "              'lg': [LogisticRegressionCV(random_state = 1), {'Cs': [1, 10, 15]}],\n",
    "            }"
   ]
  },
  {
   "cell_type": "code",
   "execution_count": 21,
   "metadata": {},
   "outputs": [
    {
     "name": "stdout",
     "output_type": "stream",
     "text": [
      "rf {'max_depth': 20, 'n_estimators': 20} 0.9351569368342199\n",
      "et {'max_depth': 30, 'n_estimators': 20} 0.9361255934404706\n",
      "bag {'n_estimators': 15} 0.9367563011089072\n",
      "ada {'n_estimators': 80} 0.8775267411382435\n",
      "knn {'n_neighbors': 3} 0.9293548126196499\n",
      "lg {'Cs': 10} 0.8047890390779471\n"
     ]
    }
   ],
   "source": [
    "for k, v in models.items():\n",
    "    gs = GridSearchCV(v[0], v[1])\n",
    "    gs.fit(X_train_scaled, y_train)\n",
    "    y_pred = gs.predict(X_test_scaled)\n",
    "    print(k, gs.best_params_, roc_auc_score(y_test, y_pred))"
   ]
  },
  {
   "cell_type": "code",
   "execution_count": 24,
   "metadata": {},
   "outputs": [
    {
     "name": "stdout",
     "output_type": "stream",
     "text": [
      "rf {'max_depth': 20, 'n_estimators': 30} 0.9345615960977021\n",
      "et {'max_depth': 30, 'n_estimators': 20} 0.9361255934404706\n",
      "bag {'n_estimators': 15} 0.9367563011089072\n"
     ]
    }
   ],
   "source": [
    "#retry rf, et, bag with new parameters\n",
    "models2  = {'rf': [RandomForestClassifier(random_state = 1), {'n_estimators' : [20, 25, 30],\n",
    "                                                'max_depth' : [15, 20]}],\n",
    "         'et': [ExtraTreesClassifier(random_state = 1), {'n_estimators' : [15, 20],\n",
    "                                                'max_depth' : [30, 35, 40]}],\n",
    "         'bag': [BaggingClassifier(random_state = 1), {'n_estimators' : [15, 20, 25]}]\n",
    "           }\n",
    "\n",
    "for k, v in models2.items():\n",
    "    gs = GridSearchCV(v[0], v[1])\n",
    "    gs.fit(X_train_scaled, y_train)\n",
    "    y_pred = gs.predict(X_test_scaled)\n",
    "    print(k, gs.best_params_, roc_auc_score(y_test, y_pred))"
   ]
  },
  {
   "cell_type": "code",
   "execution_count": null,
   "metadata": {},
   "outputs": [],
   "source": []
  }
 ],
 "metadata": {
  "kernelspec": {
   "display_name": "Python 3",
   "language": "python",
   "name": "python3"
  },
  "language_info": {
   "codemirror_mode": {
    "name": "ipython",
    "version": 3
   },
   "file_extension": ".py",
   "mimetype": "text/x-python",
   "name": "python",
   "nbconvert_exporter": "python",
   "pygments_lexer": "ipython3",
   "version": "3.6.5"
  }
 },
 "nbformat": 4,
 "nbformat_minor": 2
}
